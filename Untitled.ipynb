{
 "cells": [
  {
   "cell_type": "code",
   "execution_count": 24,
   "metadata": {},
   "outputs": [],
   "source": [
    "import numpy as np \n",
    "import numpy.lib.user_array as UsrArry"
   ]
  },
  {
   "cell_type": "code",
   "execution_count": 35,
   "metadata": {},
   "outputs": [],
   "source": [
    "\n",
    "class Tensor(UsrArry.container):\n",
    "    def __init__(self, data, dtype=None, copy=True, need_grad=False, upper_nodes=None, bak_nodes=None, grad=None, name=None):\n",
    "        '''\n",
    "        paramsters:\n",
    "\n",
    "        - data: must be a list or other iterable object.\n",
    "        - upper_node: the upper computational node of this Tensor.\n",
    "        - back_node: the computational node in the downstream.\n",
    "        - grad: the grad of this This node.\n",
    "        - need_grad: need grad or not.\n",
    "        - cpt_func: the computation to get the current Tensor node.\n",
    "\n",
    "        In a computational graph, a Tensor node looks like:\n",
    "        \n",
    "            Forward: Tensor.bak_nodes ->(Tensor.cpt_func)-> Tensor --> Tensor.upper_nodes\n",
    "            Backward: Tensor.bak_nodes <-(Tensor.grad_func)<- Tensors\n",
    "        '''\n",
    "\n",
    "        UsrArry.container.__init__(self, data, dtype=None, copy=True)\n",
    "        # super(Tensor, self).__init__(data, dtype=None, copy=True)\n",
    "        # self.data = np.array(data)\n",
    "\n",
    "        self.need_grad = need_grad\n",
    "        # self.cpt_func = get_cpt_func(name)\n",
    "        # self.grad_func = get_cpt_func(name, grad=True)\n",
    "        self.grad = np.ones(self.data.shape) if self.need_grad else None\n",
    "        self.upper_nodes = upper_nodes\n",
    "        self.bak_nodes = bak_nodes\n",
    "\n",
    "\n"
   ]
  },
  {
   "cell_type": "code",
   "execution_count": 37,
   "metadata": {},
   "outputs": [
    {
     "name": "stdout",
     "output_type": "stream",
     "text": [
      "Tensor([[1., 1.],\n",
      "       [1., 1.],\n",
      "       [1., 1.]])\n"
     ]
    }
   ],
   "source": [
    "a = np.ones((3, 4))\n",
    "b = Tensor(a)\n",
    "print(b[:, :2])"
   ]
  },
  {
   "cell_type": "code",
   "execution_count": 35,
   "metadata": {},
   "outputs": [],
   "source": [
    "b = B([1, 2, 3, 4])"
   ]
  }
 ],
 "metadata": {
  "kernelspec": {
   "display_name": "Python 3",
   "language": "python",
   "name": "python3"
  },
  "language_info": {
   "codemirror_mode": {
    "name": "ipython",
    "version": 3
   },
   "file_extension": ".py",
   "mimetype": "text/x-python",
   "name": "python",
   "nbconvert_exporter": "python",
   "pygments_lexer": "ipython3",
   "version": "3.6.5"
  }
 },
 "nbformat": 4,
 "nbformat_minor": 2
}
