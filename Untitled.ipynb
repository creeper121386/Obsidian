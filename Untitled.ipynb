{
 "cells": [
  {
   "cell_type": "code",
   "execution_count": 3,
   "metadata": {},
   "outputs": [],
   "source": [
    "import Obsidian as ob \n",
    "\n",
    "def cal(x, y):\n",
    "    return (x+y) * x\n",
    "\n",
    "a = ob.Tensor([1, 2, 3])\n",
    "c = ob.Tensor([10, 20, 30])\n",
    "a.need_grad =True\n",
    "c.need_grad =True\n",
    "\n",
    "b = cal(a, c)\n",
    "b.backward()"
   ]
  },
  {
   "cell_type": "code",
   "execution_count": 4,
   "metadata": {},
   "outputs": [
    {
     "name": "stdout",
     "output_type": "stream",
     "text": [
      "Tensor([12, 24, 36])\n",
      "dtype=int64, size=(3,)\n",
      "\n",
      "Tensor([1, 2, 3])\n",
      "dtype=int64, size=(3,)\n",
      "\n"
     ]
    }
   ],
   "source": [
    "print(a.grad)\n",
    "print(c.grad)"
   ]
  }
 ],
 "metadata": {
  "kernelspec": {
   "display_name": "Python 3",
   "language": "python",
   "name": "python3"
  },
  "language_info": {
   "codemirror_mode": {
    "name": "ipython",
    "version": 3
   },
   "file_extension": ".py",
   "mimetype": "text/x-python",
   "name": "python",
   "nbconvert_exporter": "python",
   "pygments_lexer": "ipython3",
   "version": "3.6.5"
  }
 },
 "nbformat": 4,
 "nbformat_minor": 2
}
