{
 "cells": [
  {
   "cell_type": "code",
   "execution_count": 1,
   "metadata": {},
   "outputs": [],
   "source": [
    "import numpy as np \n",
    "import numpy.lib.user_array as UsrArry"
   ]
  },
  {
   "cell_type": "code",
   "execution_count": 85,
   "metadata": {},
   "outputs": [],
   "source": [
    "def add_to_graph(func):\n",
    "    def wrapper(self, other): \n",
    "        new = func.__name__\n",
    "        print(new)\n",
    "        print('in wrapper...')\n",
    "        print(super(UsrArry.container, self).__dict__)\n",
    "        res = super(Tensor, self).__dict__[new](other)\n",
    "        \n",
    "\n",
    "        return func(self, other)\n",
    "    return wrapper\n",
    "\n",
    "\n",
    "class Tensor(UsrArry.container):\n",
    "    self.func_dict = \n",
    "    \n",
    "    def __init__(self, data, dtype=None, copy=True, in_graph=False, upper_nodes=None, bak_nodes=None, grad=None):\n",
    "        '''\n",
    "        paramsters:\n",
    "\n",
    "        - data: must be a list or other iterable object.\n",
    "        - upper_node: the upper computational node of this Tensor.\n",
    "        - bak_node: the computational node in the downstream.\n",
    "        - grad: the grad of this This node.\n",
    "        - need_grad: need grad or not.\n",
    "        - cpt_func: the computation to get the current Tensor node.\n",
    "\n",
    "        In a computational graph, a Tensor node looks like:\n",
    "        \n",
    "            Forward: Tensor.bak_nodes ->(Tensor.cpt_func)-> Tensor --> Tensor.upper_nodes\n",
    "            Backward: Tensor.bak_nodes <-(Tensor.grad_func)<- Tensors\n",
    "        '''\n",
    "\n",
    "        UsrArry.container.__init__(self, data, dtype=None, copy=True)\n",
    "        # super(Tensor, self).__init__(data, dtype=None, copy=True)\n",
    "        # self.data = np.array(data)\n",
    "\n",
    "        self.in_graph = in_graph\n",
    "        # self.cpt_func = get_cpt_func(name)\n",
    "        # self.grad_func = get_cpt_func(name, grad=True)\n",
    "        self.grad = np.ones(self.shape) if self.in_graph else None\n",
    "        self.upper_nodes = upper_nodes\n",
    "        self.bak_nodes = bak_nodes\n",
    "\n",
    "        \n",
    "    def add_to_graph(self):\n",
    "        print('add new ')\n",
    "    \n",
    "    def __str__(self):\n",
    "        return super().__str__() + ', dtype={}, size={}\\n'.format(self.dtype, self.shape)\n",
    "\n",
    "    def __abs__(self):\n",
    "        return super().__abs__()\n",
    "\n",
    "    def __neg__(self):\n",
    "        return super().__neg__()\n",
    "\n",
    "    \n",
    "    @add_to_graph\n",
    "    def __add__(self, other):\n",
    "        res = super().__add__(other)\n",
    "        \n",
    "        \n",
    "        return res\n",
    "\n",
    "    __radd__ = __add__\n",
    "\n",
    "    \n",
    "    \n",
    "    def __sub__(self, other):\n",
    "        return super().__sub__(other)\n",
    "\n",
    "    def __rsub__(self, other):\n",
    "        return super().__rsub__(other)\n",
    "\n",
    "    def __isub__(self, other):\n",
    "        return super().__isub__(other)\n",
    "\n",
    "    def __mul__(self, other):\n",
    "        return super().__mul__(other)\n",
    "\n",
    "    __rmul__ = __mul__\n",
    "\n",
    "    def __imul__(self, other):\n",
    "        return super().__imul__(other)\n",
    "\n",
    "    def __div__(self, other):\n",
    "        \n",
    "        return super().__div__(other)\n",
    "\n",
    "    def __rdiv__(self, other):\n",
    "        return super().__rdiv__(other)\n",
    "\n",
    "    def __idiv__(self, other):\n",
    "        return super().__idiv__(other)\n",
    "\n"
   ]
  },
  {
   "cell_type": "code",
   "execution_count": 86,
   "metadata": {},
   "outputs": [
    {
     "name": "stdout",
     "output_type": "stream",
     "text": [
      "__add__\n",
      "in wrapper...\n"
     ]
    },
    {
     "ename": "AttributeError",
     "evalue": "'super' object has no attribute '__dict__'",
     "output_type": "error",
     "traceback": [
      "\u001b[0;31m------------------------------------------------------------------\u001b[0m",
      "\u001b[0;31mAttributeError\u001b[0m                   Traceback (most recent call last)",
      "\u001b[0;32m<ipython-input-86-9637cc65c3bf>\u001b[0m in \u001b[0;36m<module>\u001b[0;34m()\u001b[0m\n\u001b[1;32m      1\u001b[0m \u001b[0ma\u001b[0m \u001b[0;34m=\u001b[0m \u001b[0mTensor\u001b[0m\u001b[0;34m(\u001b[0m\u001b[0;34m[\u001b[0m\u001b[0;36m1\u001b[0m\u001b[0;34m,\u001b[0m \u001b[0;36m2\u001b[0m\u001b[0;34m,\u001b[0m \u001b[0;36m3\u001b[0m\u001b[0;34m]\u001b[0m\u001b[0;34m,\u001b[0m \u001b[0min_graph\u001b[0m\u001b[0;34m=\u001b[0m\u001b[0;34m'yes'\u001b[0m\u001b[0;34m)\u001b[0m\u001b[0;34m\u001b[0m\u001b[0m\n\u001b[0;32m----> 2\u001b[0;31m \u001b[0ma\u001b[0m \u001b[0;34m+\u001b[0m \u001b[0;36m1\u001b[0m\u001b[0;34m\u001b[0m\u001b[0m\n\u001b[0m",
      "\u001b[0;32m<ipython-input-85-ca11d9f04c75>\u001b[0m in \u001b[0;36mwrapper\u001b[0;34m(self, other)\u001b[0m\n\u001b[1;32m      4\u001b[0m         \u001b[0mprint\u001b[0m\u001b[0;34m(\u001b[0m\u001b[0mnew\u001b[0m\u001b[0;34m)\u001b[0m\u001b[0;34m\u001b[0m\u001b[0m\n\u001b[1;32m      5\u001b[0m         \u001b[0mprint\u001b[0m\u001b[0;34m(\u001b[0m\u001b[0;34m'in wrapper...'\u001b[0m\u001b[0;34m)\u001b[0m\u001b[0;34m\u001b[0m\u001b[0m\n\u001b[0;32m----> 6\u001b[0;31m         \u001b[0mprint\u001b[0m\u001b[0;34m(\u001b[0m\u001b[0msuper\u001b[0m\u001b[0;34m(\u001b[0m\u001b[0mUsrArry\u001b[0m\u001b[0;34m.\u001b[0m\u001b[0mcontainer\u001b[0m\u001b[0;34m,\u001b[0m \u001b[0mself\u001b[0m\u001b[0;34m)\u001b[0m\u001b[0;34m.\u001b[0m\u001b[0m__dict__\u001b[0m\u001b[0;34m)\u001b[0m\u001b[0;34m\u001b[0m\u001b[0m\n\u001b[0m\u001b[1;32m      7\u001b[0m         \u001b[0mres\u001b[0m \u001b[0;34m=\u001b[0m \u001b[0msuper\u001b[0m\u001b[0;34m(\u001b[0m\u001b[0mTensor\u001b[0m\u001b[0;34m,\u001b[0m \u001b[0mself\u001b[0m\u001b[0;34m)\u001b[0m\u001b[0;34m.\u001b[0m\u001b[0m__dict__\u001b[0m\u001b[0;34m[\u001b[0m\u001b[0mnew\u001b[0m\u001b[0;34m]\u001b[0m\u001b[0;34m(\u001b[0m\u001b[0mother\u001b[0m\u001b[0;34m)\u001b[0m\u001b[0;34m\u001b[0m\u001b[0m\n\u001b[1;32m      8\u001b[0m \u001b[0;34m\u001b[0m\u001b[0m\n",
      "\u001b[0;31mAttributeError\u001b[0m: 'super' object has no attribute '__dict__'"
     ]
    }
   ],
   "source": [
    "a = Tensor([1, 2, 3], in_graph='yes')\n",
    "a + 1"
   ]
  },
  {
   "cell_type": "code",
   "execution_count": 41,
   "metadata": {},
   "outputs": [
    {
     "ename": "AttributeError",
     "evalue": "'numpy.ndarray' object has no attribute 'name'",
     "output_type": "error",
     "traceback": [
      "\u001b[0;31m------------------------------------------------------------------\u001b[0m",
      "\u001b[0;31mAttributeError\u001b[0m                   Traceback (most recent call last)",
      "\u001b[0;32m<ipython-input-41-44a9557adaa3>\u001b[0m in \u001b[0;36m<module>\u001b[0;34m()\u001b[0m\n\u001b[1;32m      2\u001b[0m \u001b[0mname\u001b[0m \u001b[0;34m=\u001b[0m \u001b[0mrepr\u001b[0m\u001b[0;34m(\u001b[0m\u001b[0;34m'grad'\u001b[0m\u001b[0;34m)\u001b[0m\u001b[0;34m\u001b[0m\u001b[0m\n\u001b[1;32m      3\u001b[0m \u001b[0;34m\u001b[0m\u001b[0m\n\u001b[0;32m----> 4\u001b[0;31m \u001b[0ma\u001b[0m\u001b[0;34m.\u001b[0m\u001b[0mname\u001b[0m\u001b[0;34m\u001b[0m\u001b[0m\n\u001b[0m",
      "\u001b[0;32m~/anaconda3/lib/python3.6/site-packages/numpy/lib/user_array.py\u001b[0m in \u001b[0;36m__getattr__\u001b[0;34m(self, attr)\u001b[0m\n\u001b[1;32m    264\u001b[0m         \u001b[0;32mif\u001b[0m \u001b[0;34m(\u001b[0m\u001b[0mattr\u001b[0m \u001b[0;34m==\u001b[0m \u001b[0;34m'array'\u001b[0m\u001b[0;34m)\u001b[0m\u001b[0;34m:\u001b[0m\u001b[0;34m\u001b[0m\u001b[0m\n\u001b[1;32m    265\u001b[0m             \u001b[0;32mreturn\u001b[0m \u001b[0mobject\u001b[0m\u001b[0;34m.\u001b[0m\u001b[0m__getattribute__\u001b[0m\u001b[0;34m(\u001b[0m\u001b[0mself\u001b[0m\u001b[0;34m,\u001b[0m \u001b[0mattr\u001b[0m\u001b[0;34m)\u001b[0m\u001b[0;34m\u001b[0m\u001b[0m\n\u001b[0;32m--> 266\u001b[0;31m         \u001b[0;32mreturn\u001b[0m \u001b[0mself\u001b[0m\u001b[0;34m.\u001b[0m\u001b[0marray\u001b[0m\u001b[0;34m.\u001b[0m\u001b[0m__getattribute__\u001b[0m\u001b[0;34m(\u001b[0m\u001b[0mattr\u001b[0m\u001b[0;34m)\u001b[0m\u001b[0;34m\u001b[0m\u001b[0m\n\u001b[0m\u001b[1;32m    267\u001b[0m \u001b[0;34m\u001b[0m\u001b[0m\n\u001b[1;32m    268\u001b[0m \u001b[0;31m#############################################################\u001b[0m\u001b[0;34m\u001b[0m\u001b[0;34m\u001b[0m\u001b[0m\n",
      "\u001b[0;31mAttributeError\u001b[0m: 'numpy.ndarray' object has no attribute 'name'"
     ]
    }
   ],
   "source": [
    "a = Tensor([1, 2, 3])\n",
    "name = repr('grad')\n",
    "\n",
    "a.name"
   ]
  }
 ],
 "metadata": {
  "kernelspec": {
   "display_name": "Python 3",
   "language": "python",
   "name": "python3"
  },
  "language_info": {
   "codemirror_mode": {
    "name": "ipython",
    "version": 3
   },
   "file_extension": ".py",
   "mimetype": "text/x-python",
   "name": "python",
   "nbconvert_exporter": "python",
   "pygments_lexer": "ipython3",
   "version": "3.6.5"
  }
 },
 "nbformat": 4,
 "nbformat_minor": 2
}
